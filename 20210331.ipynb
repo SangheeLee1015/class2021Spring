{
  "nbformat": 4,
  "nbformat_minor": 0,
  "metadata": {
    "colab": {
      "name": "Untitled4.ipynb",
      "provenance": [],
      "authorship_tag": "ABX9TyPpLqjPOJOHALTI2L06d9gS",
      "include_colab_link": true
    },
    "kernelspec": {
      "name": "python3",
      "display_name": "Python 3"
    },
    "language_info": {
      "name": "python"
    }
  },
  "cells": [
    {
      "cell_type": "markdown",
      "metadata": {
        "id": "view-in-github",
        "colab_type": "text"
      },
      "source": [
        "<a href=\"https://colab.research.google.com/github/SangheeLee1015/class2021Spring/blob/main/20210331.ipynb\" target=\"_parent\"><img src=\"https://colab.research.google.com/assets/colab-badge.svg\" alt=\"Open In Colab\"/></a>"
      ]
    },
    {
      "cell_type": "markdown",
      "metadata": {
        "id": "bIeuFLcI37oC"
      },
      "source": [
        "[A] Pitch: 268.8Hz, Duration: 0.68sec Intensity: 76.54dB, Formant: 851.1Hz, 1372Hz ?????\n",
        "[E] Pitch: 274.3Hz, Duration: 0.62sec Intensity: 73.06dB, Formant: 711.9Hz, 1905Hz ?????"
      ]
    }
  ]
}