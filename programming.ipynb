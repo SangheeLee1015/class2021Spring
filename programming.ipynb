{
  "nbformat": 4,
  "nbformat_minor": 0,
  "metadata": {
    "colab": {
      "name": "Untitled1.ipynb",
      "provenance": [],
      "authorship_tag": "ABX9TyOSzhdfmtP3ZBQLCYxX660j",
      "include_colab_link": true
    },
    "kernelspec": {
      "name": "python3",
      "display_name": "Python 3"
    }
  },
  "cells": [
    {
      "cell_type": "markdown",
      "metadata": {
        "id": "view-in-github",
        "colab_type": "text"
      },
      "source": [
        "<a href=\"https://colab.research.google.com/github/SangheeLee1015/class2021Spring/blob/main/programming.ipynb\" target=\"_parent\"><img src=\"https://colab.research.google.com/assets/colab-badge.svg\" alt=\"Open In Colab\"/></a>"
      ]
    },
    {
      "cell_type": "code",
      "metadata": {
        "id": "Tj22t85io0vr"
      },
      "source": [
        ""
      ],
      "execution_count": null,
      "outputs": []
    },
    {
      "cell_type": "markdown",
      "metadata": {
        "id": "JOouZZ3To2HH"
      },
      "source": [
        "**Wed March 10 Programming Language**\n",
        "\n",
        "사람의 언어 = 단어 + 문법\n",
        "\n",
        "사과<단어> = 사과 모양<내용>\n",
        "\n",
        "a<**variable, 변수**> = 1<**내용**>, 여기서 “=“은 오른쪽의 내용을 왼쪽 variable에 assign하는 것 \n",
        "\n",
        "ex) b=3, c=‘love’\n",
        "\n",
        "\n",
        "**문법 = 제어문: 반복, 조건**\n",
        "1. 반복 : for\n",
        "       ex) for 100\n",
        "           print (1)\n",
        "\n",
        "2. 조건 : if\n",
        "       ex) a=1\n",
        "           if a==1 여기서 “=“는 정말 동일, equal하다는 의미\n",
        "           print (3)\n",
        "\n",
        "\n",
        "**함수(function)** \n",
        "\n",
        "입력(input)과 출력(output) 관계 사이의 변화, 입력 ———(변화)———>출력\n",
        "\n",
        "y=f(x)에서 x는 입력, y는 출력\n",
        "\n",
        "ex) function add (a,b)\n",
        "    c=a+b\n",
        "    c\n",
        "\n"
      ]
    }
  ]
}